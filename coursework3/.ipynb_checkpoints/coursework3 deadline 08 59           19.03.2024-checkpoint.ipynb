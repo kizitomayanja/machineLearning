{
 "cells": [
  {
   "cell_type": "markdown",
   "metadata": {},
   "source": [
    "# Machine  Learning coursework3\n",
    "\n",
    "change the name of your notebook file to your name and reg number. As usual, send the files to the class coordinator, she will zip them and send me a single compressed folder. work submitted past the deadline won't be accepted.  deadline 08:59, 19/03/2023.  Submit only a single notebook file.\n"
   ]
  },
  {
   "cell_type": "markdown",
   "metadata": {},
   "source": [
    "# q1. Probability Question (10 mks)\n",
    "\n",
    "In this part, you are given 1 probability question that you will solve by hand ( You do not code anything ). You can either share your answer via Markdown Cells, or you can insert an image of your hand-written solution on a paper. To insert an image, after changing the cell type to Markdown, click Edit -> Insert Image, it will be directly embedded in the notebook file. Try to keep your answers as illustrative as possible.\n",
    "\n",
    "Soroti is a busy city, and unfortunately busy cities tend to have serious traffics. In Soroti, one in every two days, there is a traffic jam on the main roads, if the weather is sunny. However if it rains, it gets worse! Three in every four rainy days, main roads are jammed with traffic! \n",
    "\n",
    "Our dear lecturer for machine learning, Dr. Abubakhari Sserwadda is simple but such a hardworking one, however sometimes life happens, and he might arrive late to the class. If the weather is rainy and there is a traffic jam, the probability of him being late is 20%. Otherwise, he is late to only 5% of the classes.\n",
    "\n",
    "Given a randomly selected day, What is the probability that the weather is rainy, there is no traffic jam and Dr. Abubakhari is NOT late to the class?"
   ]
  },
  {
   "cell_type": "markdown",
   "metadata": {},
   "source": [
    "Double click on here to put your answer!"
   ]
  },
  {
   "cell_type": "markdown",
   "metadata": {},
   "source": [
    "# q2.  You will use the 'coursework3data' dataset given for this coursework. The last column of the file represents the label (class 0 or class 1)  (90mks)\n",
    "\n",
    "Examine the dataset. The number of samples, features and the classes. Classify given dataset using the following algorithms. one at time. \n",
    "(i)  Decision trees \n",
    "(ii) Random forest \n",
    "(iii)linear SVM\n",
    "(iv) SVM with RBF kernel\n",
    "(v) Artificial Nueral Network\n",
    "Feel free to import and use any libaries you wish. Use default parameters for each algorithm. Use 10 cross validation in all experiments.  Report the test accuracy, precision and F1 score for each algorithm. Plot the classification results for each algorithm. Make sure the figures are well displayed in your notebook file. Comment on the performance of algorithms, which algorithm would you recommend for this task and why?.\n",
    "\n",
    "\n",
    "NB. have comments below codes you implemented. \n"
   ]
  },
  {
   "cell_type": "code",
   "execution_count": 23,
   "metadata": {},
   "outputs": [
    {
     "data": {
      "text/html": [
       "<div>\n",
       "<style scoped>\n",
       "    .dataframe tbody tr th:only-of-type {\n",
       "        vertical-align: middle;\n",
       "    }\n",
       "\n",
       "    .dataframe tbody tr th {\n",
       "        vertical-align: top;\n",
       "    }\n",
       "\n",
       "    .dataframe thead th {\n",
       "        text-align: right;\n",
       "    }\n",
       "</style>\n",
       "<table border=\"1\" class=\"dataframe\">\n",
       "  <thead>\n",
       "    <tr style=\"text-align: right;\">\n",
       "      <th></th>\n",
       "      <th>0</th>\n",
       "      <th>1</th>\n",
       "      <th>2</th>\n",
       "    </tr>\n",
       "  </thead>\n",
       "  <tbody>\n",
       "    <tr>\n",
       "      <th>0</th>\n",
       "      <td>0.041590</td>\n",
       "      <td>0.954043</td>\n",
       "      <td>1.0</td>\n",
       "    </tr>\n",
       "    <tr>\n",
       "      <th>1</th>\n",
       "      <td>0.016280</td>\n",
       "      <td>0.980670</td>\n",
       "      <td>0.0</td>\n",
       "    </tr>\n",
       "    <tr>\n",
       "      <th>2</th>\n",
       "      <td>0.014573</td>\n",
       "      <td>0.979992</td>\n",
       "      <td>0.0</td>\n",
       "    </tr>\n",
       "    <tr>\n",
       "      <th>3</th>\n",
       "      <td>0.011751</td>\n",
       "      <td>0.992604</td>\n",
       "      <td>0.0</td>\n",
       "    </tr>\n",
       "    <tr>\n",
       "      <th>4</th>\n",
       "      <td>0.012188</td>\n",
       "      <td>0.987944</td>\n",
       "      <td>0.0</td>\n",
       "    </tr>\n",
       "  </tbody>\n",
       "</table>\n",
       "</div>"
      ],
      "text/plain": [
       "          0         1    2\n",
       "0  0.041590  0.954043  1.0\n",
       "1  0.016280  0.980670  0.0\n",
       "2  0.014573  0.979992  0.0\n",
       "3  0.011751  0.992604  0.0\n",
       "4  0.012188  0.987944  0.0"
      ]
     },
     "execution_count": 23,
     "metadata": {},
     "output_type": "execute_result"
    }
   ],
   "source": [
    "import pandas as pd\n",
    "import numpy as np\n",
    "from scipy.io import loadmat\n",
    "\n",
    "df = loadmat('coursework3data.mat')\n",
    "data = pd.DataFrame(df['z'])\n",
    "data.head()"
   ]
  },
  {
   "cell_type": "code",
   "execution_count": 7,
   "metadata": {},
   "outputs": [
    {
     "data": {
      "text/plain": [
       "dict"
      ]
     },
     "execution_count": 7,
     "metadata": {},
     "output_type": "execute_result"
    }
   ],
   "source": [
    "type(df)"
   ]
  },
  {
   "cell_type": "code",
   "execution_count": 6,
   "metadata": {},
   "outputs": [
    {
     "data": {
      "text/plain": [
       "dict_keys(['__header__', '__version__', '__globals__', 'z'])"
      ]
     },
     "execution_count": 6,
     "metadata": {},
     "output_type": "execute_result"
    }
   ],
   "source": [
    "df.keys()"
   ]
  },
  {
   "cell_type": "code",
   "execution_count": 2,
   "metadata": {},
   "outputs": [
    {
     "data": {
      "text/plain": [
       "b'MATLAB 5.0 MAT-file, Platform: PCWIN64, Created on: Wed Apr 12 12:52:31 2017'"
      ]
     },
     "execution_count": 2,
     "metadata": {},
     "output_type": "execute_result"
    }
   ],
   "source": [
    "df['__header__']"
   ]
  },
  {
   "cell_type": "code",
   "execution_count": 5,
   "metadata": {},
   "outputs": [
    {
     "data": {
      "text/plain": [
       "'1.0'"
      ]
     },
     "execution_count": 5,
     "metadata": {},
     "output_type": "execute_result"
    }
   ],
   "source": [
    "df['__version__']"
   ]
  },
  {
   "cell_type": "code",
   "execution_count": 6,
   "metadata": {},
   "outputs": [
    {
     "data": {
      "text/plain": [
       "[]"
      ]
     },
     "execution_count": 6,
     "metadata": {},
     "output_type": "execute_result"
    }
   ],
   "source": [
    "df['__globals__']"
   ]
  },
  {
   "cell_type": "code",
   "execution_count": 8,
   "metadata": {},
   "outputs": [
    {
     "data": {
      "text/plain": [
       "array([[0.04159004, 0.95404292, 1.        ],\n",
       "       [0.01627973, 0.98066955, 0.        ],\n",
       "       [0.01457259, 0.97999209, 0.        ],\n",
       "       [0.01175113, 0.9926036 , 0.        ],\n",
       "       [0.01218823, 0.9879444 , 0.        ],\n",
       "       [0.01084433, 0.98710225, 0.        ],\n",
       "       [0.01108428, 0.98398328, 0.        ],\n",
       "       [0.01115969, 0.98674495, 0.        ],\n",
       "       [0.0109468 , 0.98566915, 0.        ],\n",
       "       [0.00983772, 0.98767204, 0.        ],\n",
       "       [0.00981964, 0.98801154, 0.        ],\n",
       "       [0.00980062, 0.9875406 , 0.        ],\n",
       "       [0.0095526 , 0.98795498, 0.        ],\n",
       "       [0.00850271, 0.99323329, 0.        ],\n",
       "       [0.00892547, 0.99042686, 0.        ],\n",
       "       [0.0086474 , 0.99245684, 0.        ],\n",
       "       [0.00988423, 0.98625803, 0.        ],\n",
       "       [0.00907878, 0.99090602, 0.        ],\n",
       "       [0.00915666, 0.99047816, 0.        ],\n",
       "       [0.00907743, 0.98976451, 0.        ],\n",
       "       [0.00953908, 0.98955798, 0.        ],\n",
       "       [0.00913692, 0.99101658, 0.        ],\n",
       "       [0.00944979, 0.98742844, 0.        ],\n",
       "       [0.00956227, 0.98848886, 0.        ],\n",
       "       [0.00912135, 0.99144902, 0.        ],\n",
       "       [0.00928157, 0.99286964, 0.        ],\n",
       "       [0.00935285, 0.9877468 , 0.        ],\n",
       "       [0.00882202, 0.99115847, 0.        ],\n",
       "       [0.00980792, 0.98819742, 0.        ],\n",
       "       [0.00903933, 0.99139141, 0.        ],\n",
       "       [0.00987892, 0.98781948, 0.        ],\n",
       "       [0.01021751, 0.9899481 , 0.        ],\n",
       "       [0.00947238, 0.99024979, 0.        ],\n",
       "       [0.00972908, 0.98874973, 0.        ],\n",
       "       [0.00937312, 0.99074582, 0.        ],\n",
       "       [0.00988726, 0.98923653, 0.        ],\n",
       "       [0.00996432, 0.99087579, 0.        ],\n",
       "       [0.00991908, 0.9918272 , 0.        ],\n",
       "       [0.01042479, 0.99045365, 0.        ],\n",
       "       [0.01074611, 0.98822231, 0.        ],\n",
       "       [0.01076455, 0.98840055, 0.        ],\n",
       "       [0.01074572, 0.98840395, 0.        ],\n",
       "       [0.010978  , 0.98491218, 0.        ],\n",
       "       [0.01090048, 0.98717092, 0.        ],\n",
       "       [0.01061708, 0.98760045, 0.        ],\n",
       "       [0.01062752, 0.98584307, 0.        ],\n",
       "       [0.01115578, 0.99068928, 0.        ],\n",
       "       [0.01173996, 0.98531651, 0.        ],\n",
       "       [0.01112132, 0.99032345, 0.        ],\n",
       "       [0.01211006, 0.98883464, 0.        ],\n",
       "       [0.01093557, 0.98999743, 0.        ],\n",
       "       [0.01227093, 0.98485547, 0.        ],\n",
       "       [0.01186942, 0.98674194, 0.        ],\n",
       "       [0.01179061, 0.98738984, 0.        ],\n",
       "       [0.01236835, 0.98534151, 0.        ],\n",
       "       [0.01267712, 0.98478858, 0.        ],\n",
       "       [0.01276736, 0.98651581, 0.        ],\n",
       "       [0.01289274, 0.98691118, 0.        ],\n",
       "       [0.01251262, 0.98453202, 0.        ],\n",
       "       [0.01244736, 0.98883753, 0.        ],\n",
       "       [0.01371394, 0.98315328, 0.        ],\n",
       "       [0.01402836, 0.98413611, 0.        ],\n",
       "       [0.01302673, 0.98533084, 0.        ],\n",
       "       [0.01309185, 0.986871  , 0.        ],\n",
       "       [0.01321496, 0.98268307, 0.        ],\n",
       "       [0.01322664, 0.98139894, 0.        ],\n",
       "       [0.01392218, 0.98177903, 0.        ],\n",
       "       [0.01372602, 0.98634946, 0.        ],\n",
       "       [0.01399639, 0.98102891, 0.        ],\n",
       "       [0.01450833, 0.98174516, 0.        ],\n",
       "       [0.01377845, 0.98353671, 0.        ],\n",
       "       [0.01474869, 0.98436989, 0.        ],\n",
       "       [0.01426476, 0.98120322, 0.        ],\n",
       "       [0.01458333, 0.9861183 , 0.        ],\n",
       "       [0.01527138, 0.98072634, 0.        ],\n",
       "       [0.01624665, 0.98311774, 0.        ],\n",
       "       [0.01541384, 0.98455499, 0.        ],\n",
       "       [0.01462208, 0.98538434, 0.        ],\n",
       "       [0.01564707, 0.98269015, 0.        ],\n",
       "       [0.0162603 , 0.97673177, 0.        ],\n",
       "       [0.0159095 , 0.98052301, 0.        ],\n",
       "       [0.01552604, 0.98399907, 0.        ],\n",
       "       [0.01563375, 0.98343238, 0.        ],\n",
       "       [0.01617113, 0.98162262, 0.        ],\n",
       "       [0.01696354, 0.97632001, 0.        ],\n",
       "       [0.0166036 , 0.98127562, 0.        ],\n",
       "       [0.0164343 , 0.98428156, 0.        ],\n",
       "       [0.01738961, 0.97886209, 0.        ],\n",
       "       [0.01794498, 0.98244124, 0.        ],\n",
       "       [0.01706172, 0.97876585, 0.        ],\n",
       "       [0.02132896, 0.97972032, 0.        ],\n",
       "       [0.03943631, 0.97193827, 1.        ],\n",
       "       [0.0667255 , 0.93683689, 1.        ],\n",
       "       [0.07351046, 0.94723366, 1.        ],\n",
       "       [0.07596896, 0.96150243, 1.        ],\n",
       "       [0.06113603, 0.95892873, 1.        ],\n",
       "       [0.0839353 , 0.92749922, 1.        ],\n",
       "       [0.04995658, 0.95993353, 1.        ],\n",
       "       [0.08194488, 0.94020413, 1.        ],\n",
       "       [0.0497582 , 0.96402626, 1.        ],\n",
       "       [0.06999417, 0.92735808, 1.        ],\n",
       "       [0.07365658, 0.95344081, 1.        ],\n",
       "       [0.06036817, 0.95108148, 1.        ],\n",
       "       [0.07586585, 0.95910818, 1.        ],\n",
       "       [0.05562567, 0.9615549 , 1.        ],\n",
       "       [0.06772037, 0.93035914, 1.        ],\n",
       "       [0.07259202, 0.96395903, 1.        ],\n",
       "       [0.06196255, 0.96882528, 1.        ],\n",
       "       [0.07096408, 0.95709673, 1.        ],\n",
       "       [0.06573858, 0.9476388 , 1.        ],\n",
       "       [0.06649071, 0.94672902, 1.        ],\n",
       "       [0.06135202, 0.9711465 , 1.        ],\n",
       "       [0.06922591, 0.96416539, 1.        ],\n",
       "       [0.06328316, 0.9562265 , 1.        ],\n",
       "       [0.06785237, 0.95058889, 1.        ],\n",
       "       [0.06079219, 0.94668299, 1.        ],\n",
       "       [0.07106144, 0.94638327, 1.        ],\n",
       "       [0.05925909, 0.94885488, 1.        ],\n",
       "       [0.07171261, 0.96426639, 1.        ],\n",
       "       [0.05418835, 0.95782222, 1.        ],\n",
       "       [0.06900487, 0.95350652, 1.        ],\n",
       "       [0.06128343, 0.96382532, 1.        ],\n",
       "       [0.06241565, 0.95501083, 1.        ],\n",
       "       [0.05996834, 0.94375212, 1.        ],\n",
       "       [0.06818476, 0.95724512, 1.        ],\n",
       "       [0.05722944, 0.96697284, 1.        ],\n",
       "       [0.07073889, 0.93993225, 1.        ],\n",
       "       [0.0517852 , 0.95856781, 1.        ],\n",
       "       [0.0660643 , 0.9587467 , 1.        ],\n",
       "       [0.05675458, 0.9661402 , 1.        ],\n",
       "       [0.06792132, 0.96365781, 1.        ],\n",
       "       [0.05650031, 0.96362967, 1.        ],\n",
       "       [0.06139683, 0.94172121, 1.        ],\n",
       "       [0.06301456, 0.95479755, 1.        ],\n",
       "       [0.06104605, 0.9655089 , 1.        ],\n",
       "       [0.05929468, 0.96769053, 1.        ],\n",
       "       [0.06261177, 0.95286609, 1.        ],\n",
       "       [0.05970439, 0.96845698, 1.        ],\n",
       "       [0.06066533, 0.96465199, 1.        ],\n",
       "       [0.06220549, 0.95098023, 1.        ],\n",
       "       [0.05752121, 0.96369262, 1.        ],\n",
       "       [0.06055211, 0.97153073, 1.        ],\n",
       "       [0.05871929, 0.92766324, 1.        ],\n",
       "       [0.05745088, 0.9188107 , 1.        ],\n",
       "       [0.05524394, 0.95620815, 1.        ],\n",
       "       [0.06759685, 0.96006997, 1.        ],\n",
       "       [0.05477174, 0.96461066, 1.        ],\n",
       "       [0.05815513, 0.96316895, 1.        ],\n",
       "       [0.05270182, 0.95764965, 1.        ],\n",
       "       [0.06505898, 0.94124182, 1.        ],\n",
       "       [0.05780611, 0.94432432, 1.        ],\n",
       "       [0.05735572, 0.96325349, 1.        ],\n",
       "       [0.05422021, 0.94062679, 1.        ],\n",
       "       [0.06052167, 0.96687174, 1.        ],\n",
       "       [0.05754473, 0.96567797, 1.        ],\n",
       "       [0.0604742 , 0.94989207, 1.        ],\n",
       "       [0.05277547, 0.96572227, 1.        ],\n",
       "       [0.06125445, 0.96469362, 1.        ],\n",
       "       [0.05360646, 0.96631605, 1.        ],\n",
       "       [0.0612033 , 0.94348881, 1.        ],\n",
       "       [0.0553735 , 0.95103407, 1.        ],\n",
       "       [0.05109146, 0.93580589, 1.        ],\n",
       "       [0.05965621, 0.96050178, 1.        ],\n",
       "       [0.04927775, 0.93366905, 1.        ],\n",
       "       [0.06491937, 0.94805503, 1.        ],\n",
       "       [0.04822144, 0.95214493, 1.        ],\n",
       "       [0.05685615, 0.95055375, 1.        ],\n",
       "       [0.05499354, 0.95972212, 1.        ],\n",
       "       [0.05534794, 0.95913393, 1.        ],\n",
       "       [0.05669867, 0.93639412, 1.        ],\n",
       "       [0.04880515, 0.97457709, 1.        ],\n",
       "       [0.06435357, 0.93930644, 1.        ],\n",
       "       [0.04177238, 0.9509901 , 1.        ],\n",
       "       [0.05834755, 0.95102312, 1.        ],\n",
       "       [0.04901085, 0.94798581, 1.        ],\n",
       "       [0.06022462, 0.93488494, 1.        ],\n",
       "       [0.04914816, 0.95307833, 1.        ],\n",
       "       [0.05285511, 0.95360396, 1.        ],\n",
       "       [0.05540151, 0.95641146, 1.        ],\n",
       "       [0.05273419, 0.94863245, 1.        ]])"
      ]
     },
     "execution_count": 8,
     "metadata": {},
     "output_type": "execute_result"
    }
   ],
   "source": [
    "df['z']"
   ]
  },
  {
   "cell_type": "code",
   "execution_count": 10,
   "metadata": {},
   "outputs": [
    {
     "data": {
      "text/plain": [
       "(180, 3)"
      ]
     },
     "execution_count": 10,
     "metadata": {},
     "output_type": "execute_result"
    }
   ],
   "source": [
    "df['z'].shape"
   ]
  },
  {
   "cell_type": "code",
   "execution_count": 9,
   "metadata": {},
   "outputs": [],
   "source": [
    "dataset = df['z']"
   ]
  },
  {
   "cell_type": "code",
   "execution_count": 10,
   "metadata": {},
   "outputs": [],
   "source": [
    "dataset = pd.DataFrame(dataset)"
   ]
  },
  {
   "cell_type": "code",
   "execution_count": 11,
   "metadata": {},
   "outputs": [
    {
     "data": {
      "text/html": [
       "<div>\n",
       "<style scoped>\n",
       "    .dataframe tbody tr th:only-of-type {\n",
       "        vertical-align: middle;\n",
       "    }\n",
       "\n",
       "    .dataframe tbody tr th {\n",
       "        vertical-align: top;\n",
       "    }\n",
       "\n",
       "    .dataframe thead th {\n",
       "        text-align: right;\n",
       "    }\n",
       "</style>\n",
       "<table border=\"1\" class=\"dataframe\">\n",
       "  <thead>\n",
       "    <tr style=\"text-align: right;\">\n",
       "      <th></th>\n",
       "      <th>0</th>\n",
       "      <th>1</th>\n",
       "      <th>2</th>\n",
       "    </tr>\n",
       "  </thead>\n",
       "  <tbody>\n",
       "    <tr>\n",
       "      <th>0</th>\n",
       "      <td>0.041590</td>\n",
       "      <td>0.954043</td>\n",
       "      <td>1.0</td>\n",
       "    </tr>\n",
       "    <tr>\n",
       "      <th>1</th>\n",
       "      <td>0.016280</td>\n",
       "      <td>0.980670</td>\n",
       "      <td>0.0</td>\n",
       "    </tr>\n",
       "    <tr>\n",
       "      <th>2</th>\n",
       "      <td>0.014573</td>\n",
       "      <td>0.979992</td>\n",
       "      <td>0.0</td>\n",
       "    </tr>\n",
       "    <tr>\n",
       "      <th>3</th>\n",
       "      <td>0.011751</td>\n",
       "      <td>0.992604</td>\n",
       "      <td>0.0</td>\n",
       "    </tr>\n",
       "    <tr>\n",
       "      <th>4</th>\n",
       "      <td>0.012188</td>\n",
       "      <td>0.987944</td>\n",
       "      <td>0.0</td>\n",
       "    </tr>\n",
       "    <tr>\n",
       "      <th>...</th>\n",
       "      <td>...</td>\n",
       "      <td>...</td>\n",
       "      <td>...</td>\n",
       "    </tr>\n",
       "    <tr>\n",
       "      <th>175</th>\n",
       "      <td>0.060225</td>\n",
       "      <td>0.934885</td>\n",
       "      <td>1.0</td>\n",
       "    </tr>\n",
       "    <tr>\n",
       "      <th>176</th>\n",
       "      <td>0.049148</td>\n",
       "      <td>0.953078</td>\n",
       "      <td>1.0</td>\n",
       "    </tr>\n",
       "    <tr>\n",
       "      <th>177</th>\n",
       "      <td>0.052855</td>\n",
       "      <td>0.953604</td>\n",
       "      <td>1.0</td>\n",
       "    </tr>\n",
       "    <tr>\n",
       "      <th>178</th>\n",
       "      <td>0.055402</td>\n",
       "      <td>0.956411</td>\n",
       "      <td>1.0</td>\n",
       "    </tr>\n",
       "    <tr>\n",
       "      <th>179</th>\n",
       "      <td>0.052734</td>\n",
       "      <td>0.948632</td>\n",
       "      <td>1.0</td>\n",
       "    </tr>\n",
       "  </tbody>\n",
       "</table>\n",
       "<p>180 rows × 3 columns</p>\n",
       "</div>"
      ],
      "text/plain": [
       "            0         1    2\n",
       "0    0.041590  0.954043  1.0\n",
       "1    0.016280  0.980670  0.0\n",
       "2    0.014573  0.979992  0.0\n",
       "3    0.011751  0.992604  0.0\n",
       "4    0.012188  0.987944  0.0\n",
       "..        ...       ...  ...\n",
       "175  0.060225  0.934885  1.0\n",
       "176  0.049148  0.953078  1.0\n",
       "177  0.052855  0.953604  1.0\n",
       "178  0.055402  0.956411  1.0\n",
       "179  0.052734  0.948632  1.0\n",
       "\n",
       "[180 rows x 3 columns]"
      ]
     },
     "execution_count": 11,
     "metadata": {},
     "output_type": "execute_result"
    }
   ],
   "source": [
    "dataset"
   ]
  },
  {
   "cell_type": "code",
   "execution_count": 12,
   "metadata": {},
   "outputs": [
    {
     "data": {
      "text/html": [
       "<div>\n",
       "<style scoped>\n",
       "    .dataframe tbody tr th:only-of-type {\n",
       "        vertical-align: middle;\n",
       "    }\n",
       "\n",
       "    .dataframe tbody tr th {\n",
       "        vertical-align: top;\n",
       "    }\n",
       "\n",
       "    .dataframe thead th {\n",
       "        text-align: right;\n",
       "    }\n",
       "</style>\n",
       "<table border=\"1\" class=\"dataframe\">\n",
       "  <thead>\n",
       "    <tr style=\"text-align: right;\">\n",
       "      <th></th>\n",
       "      <th>0</th>\n",
       "      <th>1</th>\n",
       "      <th>2</th>\n",
       "    </tr>\n",
       "  </thead>\n",
       "  <tbody>\n",
       "    <tr>\n",
       "      <th>count</th>\n",
       "      <td>180.000000</td>\n",
       "      <td>180.000000</td>\n",
       "      <td>180.000000</td>\n",
       "    </tr>\n",
       "    <tr>\n",
       "      <th>mean</th>\n",
       "      <td>0.036291</td>\n",
       "      <td>0.970058</td>\n",
       "      <td>0.500000</td>\n",
       "    </tr>\n",
       "    <tr>\n",
       "      <th>std</th>\n",
       "      <td>0.024888</td>\n",
       "      <td>0.018444</td>\n",
       "      <td>0.501395</td>\n",
       "    </tr>\n",
       "    <tr>\n",
       "      <th>min</th>\n",
       "      <td>0.008503</td>\n",
       "      <td>0.918811</td>\n",
       "      <td>0.000000</td>\n",
       "    </tr>\n",
       "    <tr>\n",
       "      <th>25%</th>\n",
       "      <td>0.011748</td>\n",
       "      <td>0.955909</td>\n",
       "      <td>0.000000</td>\n",
       "    </tr>\n",
       "    <tr>\n",
       "      <th>50%</th>\n",
       "      <td>0.030383</td>\n",
       "      <td>0.975449</td>\n",
       "      <td>0.500000</td>\n",
       "    </tr>\n",
       "    <tr>\n",
       "      <th>75%</th>\n",
       "      <td>0.060261</td>\n",
       "      <td>0.986776</td>\n",
       "      <td>1.000000</td>\n",
       "    </tr>\n",
       "    <tr>\n",
       "      <th>max</th>\n",
       "      <td>0.083935</td>\n",
       "      <td>0.993233</td>\n",
       "      <td>1.000000</td>\n",
       "    </tr>\n",
       "  </tbody>\n",
       "</table>\n",
       "</div>"
      ],
      "text/plain": [
       "                0           1           2\n",
       "count  180.000000  180.000000  180.000000\n",
       "mean     0.036291    0.970058    0.500000\n",
       "std      0.024888    0.018444    0.501395\n",
       "min      0.008503    0.918811    0.000000\n",
       "25%      0.011748    0.955909    0.000000\n",
       "50%      0.030383    0.975449    0.500000\n",
       "75%      0.060261    0.986776    1.000000\n",
       "max      0.083935    0.993233    1.000000"
      ]
     },
     "execution_count": 12,
     "metadata": {},
     "output_type": "execute_result"
    }
   ],
   "source": [
    "dataset.describe()"
   ]
  },
  {
   "cell_type": "code",
   "execution_count": null,
   "metadata": {},
   "outputs": [],
   "source": []
  },
  {
   "cell_type": "code",
   "execution_count": null,
   "metadata": {},
   "outputs": [],
   "source": [
    "import matplotlib.pyplot as plt\n",
    "import seaborn as sns\n"
   ]
  },
  {
   "cell_type": "code",
   "execution_count": 30,
   "metadata": {},
   "outputs": [
    {
     "data": {
      "text/html": [
       "<div>\n",
       "<style scoped>\n",
       "    .dataframe tbody tr th:only-of-type {\n",
       "        vertical-align: middle;\n",
       "    }\n",
       "\n",
       "    .dataframe tbody tr th {\n",
       "        vertical-align: top;\n",
       "    }\n",
       "\n",
       "    .dataframe thead th {\n",
       "        text-align: right;\n",
       "    }\n",
       "</style>\n",
       "<table border=\"1\" class=\"dataframe\">\n",
       "  <thead>\n",
       "    <tr style=\"text-align: right;\">\n",
       "      <th></th>\n",
       "      <th>Feature1</th>\n",
       "      <th>1</th>\n",
       "      <th>2</th>\n",
       "    </tr>\n",
       "  </thead>\n",
       "  <tbody>\n",
       "    <tr>\n",
       "      <th>0</th>\n",
       "      <td>0.041590</td>\n",
       "      <td>0.954043</td>\n",
       "      <td>1.0</td>\n",
       "    </tr>\n",
       "    <tr>\n",
       "      <th>1</th>\n",
       "      <td>0.016280</td>\n",
       "      <td>0.980670</td>\n",
       "      <td>0.0</td>\n",
       "    </tr>\n",
       "    <tr>\n",
       "      <th>2</th>\n",
       "      <td>0.014573</td>\n",
       "      <td>0.979992</td>\n",
       "      <td>0.0</td>\n",
       "    </tr>\n",
       "    <tr>\n",
       "      <th>3</th>\n",
       "      <td>0.011751</td>\n",
       "      <td>0.992604</td>\n",
       "      <td>0.0</td>\n",
       "    </tr>\n",
       "    <tr>\n",
       "      <th>4</th>\n",
       "      <td>0.012188</td>\n",
       "      <td>0.987944</td>\n",
       "      <td>0.0</td>\n",
       "    </tr>\n",
       "    <tr>\n",
       "      <th>...</th>\n",
       "      <td>...</td>\n",
       "      <td>...</td>\n",
       "      <td>...</td>\n",
       "    </tr>\n",
       "    <tr>\n",
       "      <th>175</th>\n",
       "      <td>0.060225</td>\n",
       "      <td>0.934885</td>\n",
       "      <td>1.0</td>\n",
       "    </tr>\n",
       "    <tr>\n",
       "      <th>176</th>\n",
       "      <td>0.049148</td>\n",
       "      <td>0.953078</td>\n",
       "      <td>1.0</td>\n",
       "    </tr>\n",
       "    <tr>\n",
       "      <th>177</th>\n",
       "      <td>0.052855</td>\n",
       "      <td>0.953604</td>\n",
       "      <td>1.0</td>\n",
       "    </tr>\n",
       "    <tr>\n",
       "      <th>178</th>\n",
       "      <td>0.055402</td>\n",
       "      <td>0.956411</td>\n",
       "      <td>1.0</td>\n",
       "    </tr>\n",
       "    <tr>\n",
       "      <th>179</th>\n",
       "      <td>0.052734</td>\n",
       "      <td>0.948632</td>\n",
       "      <td>1.0</td>\n",
       "    </tr>\n",
       "  </tbody>\n",
       "</table>\n",
       "<p>180 rows × 3 columns</p>\n",
       "</div>"
      ],
      "text/plain": [
       "     Feature1         1    2\n",
       "0    0.041590  0.954043  1.0\n",
       "1    0.016280  0.980670  0.0\n",
       "2    0.014573  0.979992  0.0\n",
       "3    0.011751  0.992604  0.0\n",
       "4    0.012188  0.987944  0.0\n",
       "..        ...       ...  ...\n",
       "175  0.060225  0.934885  1.0\n",
       "176  0.049148  0.953078  1.0\n",
       "177  0.052855  0.953604  1.0\n",
       "178  0.055402  0.956411  1.0\n",
       "179  0.052734  0.948632  1.0\n",
       "\n",
       "[180 rows x 3 columns]"
      ]
     },
     "execution_count": 30,
     "metadata": {},
     "output_type": "execute_result"
    }
   ],
   "source": [
    "data.rename(columns={0:'Feature1'})"
   ]
  },
  {
   "cell_type": "code",
   "execution_count": 35,
   "metadata": {},
   "outputs": [
    {
     "data": {
      "text/html": [
       "<div>\n",
       "<style scoped>\n",
       "    .dataframe tbody tr th:only-of-type {\n",
       "        vertical-align: middle;\n",
       "    }\n",
       "\n",
       "    .dataframe tbody tr th {\n",
       "        vertical-align: top;\n",
       "    }\n",
       "\n",
       "    .dataframe thead th {\n",
       "        text-align: right;\n",
       "    }\n",
       "</style>\n",
       "<table border=\"1\" class=\"dataframe\">\n",
       "  <thead>\n",
       "    <tr style=\"text-align: right;\">\n",
       "      <th></th>\n",
       "      <th>Feature1</th>\n",
       "      <th>Feature2</th>\n",
       "      <th>Targets</th>\n",
       "    </tr>\n",
       "  </thead>\n",
       "  <tbody>\n",
       "    <tr>\n",
       "      <th>165</th>\n",
       "      <td>0.048221</td>\n",
       "      <td>0.952145</td>\n",
       "      <td>1.0</td>\n",
       "    </tr>\n",
       "    <tr>\n",
       "      <th>166</th>\n",
       "      <td>0.056856</td>\n",
       "      <td>0.950554</td>\n",
       "      <td>1.0</td>\n",
       "    </tr>\n",
       "    <tr>\n",
       "      <th>167</th>\n",
       "      <td>0.054994</td>\n",
       "      <td>0.959722</td>\n",
       "      <td>1.0</td>\n",
       "    </tr>\n",
       "    <tr>\n",
       "      <th>168</th>\n",
       "      <td>0.055348</td>\n",
       "      <td>0.959134</td>\n",
       "      <td>1.0</td>\n",
       "    </tr>\n",
       "    <tr>\n",
       "      <th>169</th>\n",
       "      <td>0.056699</td>\n",
       "      <td>0.936394</td>\n",
       "      <td>1.0</td>\n",
       "    </tr>\n",
       "    <tr>\n",
       "      <th>170</th>\n",
       "      <td>0.048805</td>\n",
       "      <td>0.974577</td>\n",
       "      <td>1.0</td>\n",
       "    </tr>\n",
       "    <tr>\n",
       "      <th>171</th>\n",
       "      <td>0.064354</td>\n",
       "      <td>0.939306</td>\n",
       "      <td>1.0</td>\n",
       "    </tr>\n",
       "    <tr>\n",
       "      <th>172</th>\n",
       "      <td>0.041772</td>\n",
       "      <td>0.950990</td>\n",
       "      <td>1.0</td>\n",
       "    </tr>\n",
       "    <tr>\n",
       "      <th>173</th>\n",
       "      <td>0.058348</td>\n",
       "      <td>0.951023</td>\n",
       "      <td>1.0</td>\n",
       "    </tr>\n",
       "    <tr>\n",
       "      <th>174</th>\n",
       "      <td>0.049011</td>\n",
       "      <td>0.947986</td>\n",
       "      <td>1.0</td>\n",
       "    </tr>\n",
       "    <tr>\n",
       "      <th>175</th>\n",
       "      <td>0.060225</td>\n",
       "      <td>0.934885</td>\n",
       "      <td>1.0</td>\n",
       "    </tr>\n",
       "    <tr>\n",
       "      <th>176</th>\n",
       "      <td>0.049148</td>\n",
       "      <td>0.953078</td>\n",
       "      <td>1.0</td>\n",
       "    </tr>\n",
       "    <tr>\n",
       "      <th>177</th>\n",
       "      <td>0.052855</td>\n",
       "      <td>0.953604</td>\n",
       "      <td>1.0</td>\n",
       "    </tr>\n",
       "    <tr>\n",
       "      <th>178</th>\n",
       "      <td>0.055402</td>\n",
       "      <td>0.956411</td>\n",
       "      <td>1.0</td>\n",
       "    </tr>\n",
       "    <tr>\n",
       "      <th>179</th>\n",
       "      <td>0.052734</td>\n",
       "      <td>0.948632</td>\n",
       "      <td>1.0</td>\n",
       "    </tr>\n",
       "  </tbody>\n",
       "</table>\n",
       "</div>"
      ],
      "text/plain": [
       "     Feature1  Feature2  Targets\n",
       "165  0.048221  0.952145      1.0\n",
       "166  0.056856  0.950554      1.0\n",
       "167  0.054994  0.959722      1.0\n",
       "168  0.055348  0.959134      1.0\n",
       "169  0.056699  0.936394      1.0\n",
       "170  0.048805  0.974577      1.0\n",
       "171  0.064354  0.939306      1.0\n",
       "172  0.041772  0.950990      1.0\n",
       "173  0.058348  0.951023      1.0\n",
       "174  0.049011  0.947986      1.0\n",
       "175  0.060225  0.934885      1.0\n",
       "176  0.049148  0.953078      1.0\n",
       "177  0.052855  0.953604      1.0\n",
       "178  0.055402  0.956411      1.0\n",
       "179  0.052734  0.948632      1.0"
      ]
     },
     "execution_count": 35,
     "metadata": {},
     "output_type": "execute_result"
    }
   ],
   "source": [
    "data = data.rename(columns={0:'Feature1',1:'Feature2',2:'Targets'})\n",
    "data.tail(15)"
   ]
  },
  {
   "cell_type": "code",
   "execution_count": 36,
   "metadata": {},
   "outputs": [],
   "source": [
    "X=data.iloc[:,:-1]\n",
    "Y=data.iloc[:,-1]"
   ]
  },
  {
   "cell_type": "code",
   "execution_count": 37,
   "metadata": {},
   "outputs": [
    {
     "data": {
      "text/html": [
       "<div>\n",
       "<style scoped>\n",
       "    .dataframe tbody tr th:only-of-type {\n",
       "        vertical-align: middle;\n",
       "    }\n",
       "\n",
       "    .dataframe tbody tr th {\n",
       "        vertical-align: top;\n",
       "    }\n",
       "\n",
       "    .dataframe thead th {\n",
       "        text-align: right;\n",
       "    }\n",
       "</style>\n",
       "<table border=\"1\" class=\"dataframe\">\n",
       "  <thead>\n",
       "    <tr style=\"text-align: right;\">\n",
       "      <th></th>\n",
       "      <th>Feature1</th>\n",
       "      <th>Feature2</th>\n",
       "    </tr>\n",
       "  </thead>\n",
       "  <tbody>\n",
       "    <tr>\n",
       "      <th>0</th>\n",
       "      <td>0.041590</td>\n",
       "      <td>0.954043</td>\n",
       "    </tr>\n",
       "    <tr>\n",
       "      <th>1</th>\n",
       "      <td>0.016280</td>\n",
       "      <td>0.980670</td>\n",
       "    </tr>\n",
       "    <tr>\n",
       "      <th>2</th>\n",
       "      <td>0.014573</td>\n",
       "      <td>0.979992</td>\n",
       "    </tr>\n",
       "    <tr>\n",
       "      <th>3</th>\n",
       "      <td>0.011751</td>\n",
       "      <td>0.992604</td>\n",
       "    </tr>\n",
       "    <tr>\n",
       "      <th>4</th>\n",
       "      <td>0.012188</td>\n",
       "      <td>0.987944</td>\n",
       "    </tr>\n",
       "  </tbody>\n",
       "</table>\n",
       "</div>"
      ],
      "text/plain": [
       "   Feature1  Feature2\n",
       "0  0.041590  0.954043\n",
       "1  0.016280  0.980670\n",
       "2  0.014573  0.979992\n",
       "3  0.011751  0.992604\n",
       "4  0.012188  0.987944"
      ]
     },
     "execution_count": 37,
     "metadata": {},
     "output_type": "execute_result"
    }
   ],
   "source": [
    "X.head()"
   ]
  },
  {
   "cell_type": "code",
   "execution_count": 38,
   "metadata": {},
   "outputs": [
    {
     "data": {
      "text/plain": [
       "0    1.0\n",
       "1    0.0\n",
       "2    0.0\n",
       "3    0.0\n",
       "4    0.0\n",
       "Name: Targets, dtype: float64"
      ]
     },
     "execution_count": 38,
     "metadata": {},
     "output_type": "execute_result"
    }
   ],
   "source": [
    "Y.head()"
   ]
  },
  {
   "cell_type": "code",
   "execution_count": 55,
   "metadata": {},
   "outputs": [
    {
     "name": "stdout",
     "output_type": "stream",
     "text": [
      "Mean accuracy of predictions: 0.981\n"
     ]
    }
   ],
   "source": [
    "from sklearn.model_selection import train_test_split\n",
    "from sklearn.linear_model import Perceptron\n",
    "from sklearn import metrics\n",
    "\n",
    "xtrain,xtest,ytrain,ytest=train_test_split(X,Y,test_size=0.3,random_state=42)\n",
    "\n",
    "perceive = Perceptron(random_state=457)\n",
    "perceive.fit(xtrain,ytrain)\n",
    "\n",
    "predictions = perceive.predict(xtest)\n",
    "score = np.round(metrics.accuracy_score(ytest,predictions),3)\n",
    "\n",
    "print(f'Mean accuracy of predictions: {score}')"
   ]
  },
  {
   "cell_type": "code",
   "execution_count": 54,
   "metadata": {},
   "outputs": [
    {
     "name": "stdout",
     "output_type": "stream",
     "text": [
      "Iteration 1, loss = 0.70333827\n",
      "Iteration 2, loss = 0.70332869\n",
      "Iteration 3, loss = 0.70332382\n",
      "Iteration 4, loss = 0.70331924\n",
      "Iteration 5, loss = 0.70331493\n",
      "Iteration 6, loss = 0.70331087\n",
      "Iteration 7, loss = 0.70330705\n",
      "Iteration 8, loss = 0.70330346\n",
      "Iteration 9, loss = 0.70330008\n",
      "Iteration 10, loss = 0.70329690\n",
      "Iteration 11, loss = 0.70329391\n",
      "Iteration 12, loss = 0.70329109\n",
      "Training loss did not improve more than tol=0.000100 for 10 consecutive epochs. Stopping.\n",
      "Mean accuracy of predictions: 0.5\n"
     ]
    }
   ],
   "source": [
    "from sklearn.model_selection import train_test_split\n",
    "from sklearn.neural_network import MLPClassifier\n",
    "from sklearn import metrics\n",
    "\n",
    "xtrain,xtest,ytrain,ytest=train_test_split(X,Y,test_size=0.2,random_state=762)\n",
    "\n",
    "classifier = MLPClassifier(hidden_layer_sizes=2,activation='relu',random_state=42,solver='sgd',max_iter=35,verbose=10,learning_rate='invscaling')\n",
    "classifier.fit(xtrain,ytrain)\n",
    "\n",
    "predictions = classifier.predict(xtest)\n",
    "score = np.round(metrics.accuracy_score(ytest,predictions),2)\n",
    "\n",
    "print(f'Mean accuracy of predictions: {score}')\n"
   ]
  },
  {
   "cell_type": "code",
   "execution_count": null,
   "metadata": {},
   "outputs": [],
   "source": []
  }
 ],
 "metadata": {
  "kernelspec": {
   "display_name": "Python 3 (ipykernel)",
   "language": "python",
   "name": "python3"
  },
  "language_info": {
   "codemirror_mode": {
    "name": "ipython",
    "version": 3
   },
   "file_extension": ".py",
   "mimetype": "text/x-python",
   "name": "python",
   "nbconvert_exporter": "python",
   "pygments_lexer": "ipython3",
   "version": "3.11.5"
  }
 },
 "nbformat": 4,
 "nbformat_minor": 4
}
