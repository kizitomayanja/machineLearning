{
 "cells": [
  {
   "cell_type": "markdown",
   "metadata": {},
   "source": [
    "\n",
    "\n",
    "Before starting, read the README.txt file.\n"
   ]
  },
  {
   "cell_type": "code",
   "execution_count": 3,
   "metadata": {},
   "outputs": [],
   "source": [
    "import numpy as np\n",
    "import matplotlib.pyplot as plt\n",
    "import pandas as pd"
   ]
  },
  {
   "cell_type": "markdown",
   "metadata": {},
   "source": [
    "# Part 1: Simple Linear Regression  (30 points)\n",
    "\n",
    "### Background\n",
    "\n",
    "Remember from the course material: In Linear Regression, we aim to find the line that fits the given data as well as possible. The line formula is:\n",
    "\n",
    "### <center> $ \\hat{y} = f(x) = \\beta_0 + \\beta_1 x $ <center> \n",
    "\n",
    "And using linear regression, the goal is to find the $\\beta_0$ and $\\beta_1$ such that the the Mean Squared Error (MSE) is minimized:\n",
    "    \n",
    "### <center> $ MSE \\Rightarrow \\mathcal{L} = \\dfrac{1}{N} \\sum_{i=1}^{N} (y_i - f(x_i ))^2 $ <center> \n",
    "    \n",
    "As the MSE error gets smaller, the line starts to represent the data better and better.\n",
    "    \n",
    "Consider $\\beta = (\\beta_0 + \\beta_1)$. In order to find the $\\beta$ that minimizes the MSE loss, we use **Gradient Descent**. Iteratively $\\beta$ is updated in the opposite direction of the gradient, while the size of the update is controlled with the learning rate $\\eta$:\n",
    "    \n",
    "### <center> $ \\beta \\leftarrow \\beta-\\eta \\frac{d \\mathcal{L}}{d \\beta} $ <center> \n",
    "\n",
    "### Your Task\n",
    "\n",
    "In this part, you are going to code up Simple Linear Regression on the data given in **data1.csv**, and find the line that fits the data best. To do so, you'll need to complete the following:\n",
    "\n",
    "- Code up the gradient descent, and print the loss value at every time step. You can use the number of steps as the stopping criteria (e.g. stopping gradient descent after 10 steps). \n",
    "- At the end of the algorithm, plot the obtained regression line with the data .\n",
    "    \n",
    "I recommend you to use the given learning rate and number of iterations in the code , but you are free to change them to make your algorithm faster if you'd like. You are not allowed to use any libraries other than the imported ones at the beginning. You can initialize the $\\beta$ randomly."
   ]
  },
  {
   "cell_type": "code",
   "execution_count": 2,
   "metadata": {},
   "outputs": [],
   "source": [
    "def load_data():\n",
    "    df = pd.read_csv(\"data1.csv\")\n",
    "    x = df['x'].values\n",
    "    y = df['y'].values\n",
    "    print(type(y))\n",
    "    return x, y\n",
    "\n",
    "\n",
    "def gradient_descent(x, y, learning_rate = 0.1, max_its = 500):\n",
    "    #TO DO: Initialize the beta values\n",
    "    #beta1 = (y[1]-y[2])/(x[1]-x[2])\n",
    "    #beta0 = y[1] - (beta1*x[1])\n",
    "    beta0 = 0\n",
    "    beta1 = 0\n",
    "    \n",
    "    n = float(len(y))\n",
    "\n",
    "    # start gradient descent loop\n",
    "    for k in range(0,max_its):\n",
    "        # TO DO: calculate derivative (grad)\n",
    "        y_pred = beta0 + (beta1*x)\n",
    "        \n",
    "        \n",
    "        D_beta1 = (-2/n)*sum(x*(y - y_pred))\n",
    "        D_beta0 = (-2/n)*sum(y-y_pred)\n",
    "        \n",
    "        \n",
    "        # TO DO: take gradient descent step\n",
    "        ...\n",
    "        beta1 = beta1 - (learning_rate*D_beta1)\n",
    "        beta0 = beta0 - (learning_rate*D_beta0)\n",
    "        \n",
    "        # TO DO: calculate and print the loss value\n",
    "        ...\n",
    "        loss_value = sum(y-y_pred)/n\n",
    "        if k%20==0:\n",
    "            print(loss_value)\n",
    "\n",
    "    return beta0, beta1"
   ]
  },
  {
   "cell_type": "code",
   "execution_count": 3,
   "metadata": {},
   "outputs": [
    {
     "name": "stdout",
     "output_type": "stream",
     "text": [
      "<class 'numpy.ndarray'>\n",
      "1.6945229448216133\n",
      "0.0033163949665123617\n",
      "-0.0031536406947462268\n",
      "-0.0024626257299801145\n",
      "-0.0019035972388360633\n",
      "-0.001471386896003777\n",
      "-0.0011373092231200177\n",
      "-0.0008790837203566104\n",
      "-0.0006794881916706208\n",
      "-0.0005252107301365916\n",
      "-0.0004059618907762408\n",
      "-0.0003137884420595061\n",
      "-0.00024254292978566295\n",
      "-0.00018747367622229838\n",
      "-0.00014490786974251434\n",
      "-0.00011200660880185787\n",
      "-8.657556306380876e-05\n",
      "-6.691862382005365e-05\n",
      "-5.172478301635142e-05\n",
      "-3.99806963345517e-05\n",
      "-3.090309878921893e-05\n",
      "-2.3886565326014518e-05\n",
      "-1.846313235337682e-05\n",
      "-1.4271087184045683e-05\n",
      "-1.1030843819814784e-05\n"
     ]
    },
    {
     "data": {
      "image/png": "[encoded data removed]",
      "text/plain": [
       "<Figure size 640x480 with 1 Axes>"
      ]
     },
     "metadata": {},
     "output_type": "display_data"
    }
   ],
   "source": [
    "x, y = load_data()\n",
    "beta0, beta1 = gradient_descent(x, y)\n",
    "plt.scatter(x, y)\n",
    "axes = plt.gca()\n",
    "x_vals = np.array(axes.get_xlim())\n",
    "y_vals = beta0 + beta1 * x_vals\n",
    "plt.plot(x_vals, y_vals, '-')\n",
    "plt.show()\n"
   ]
  },
  {
   "cell_type": "markdown",
   "metadata": {},
   "source": [
    "# Part 2: Multi Linear Regression on California House Pricing Dataset using 5-fold Cross Validation (50 points)\n",
    "\n",
    "In this part, you are going to train a Multi Linear Regression Model on a real dataset! The dataset we are going to use is **California House Pricing Dataset**. The target is to predict the median house value in California, given the 8 features ( You can examine the name of the features when you run the load_data function given below ). In this part, you will also use Cross-Validation with 5 folds, in addition to everything you implemented in Part 1. You will also alter your code so that it works with multiple attribute. In this case, you will have 8 features and you can code up assuming you will always have 8 features. At the end, you will report your results. \n",
    "\n",
    "In summary, you will need to do the following:\n",
    "\n",
    "- Code up gradient descent with Cross Validation for Multi Linear Regression\n",
    "- Find the best working learning rate and number of iterations setup.\n",
    "- Report the MSE loss periodically during training in folds (For example, if you are training for 1000 steps, you can print MSE loss for each 100 steps. If you are training for 100000 steps ( which you can, if you'd like ), you can print MSE loss for each 10000 steps. In total, if you print the loss 10 times periodically for each fold, it's fine ).\n",
    "- Save the final MSE results on the testing set on each fold in an array. Print the average testing MSE losses at the end of the algorithm. Additionally, print the variance of the testing MSE losses. \n",
    "\n",
    "In this part, I am giving you only the load_data function, It is up to you to find the working learning rate and number of iterations setup. In addition to the libraries imported for Part 1, you are allowed to use sklearn for fetching dataset (which is already done for you), and the KFold class for the cross-validation. Other than that, you are not allowed to use sklearn or any other additional libraries.\n",
    "\n"
   ]
  },
  {
   "cell_type": "code",
   "execution_count": 8,
   "metadata": {},
   "outputs": [],
   "source": [
    "from sklearn.datasets import fetch_california_housing\n",
    "from sklearn.model_selection import KFold\n",
    "def load_data():\n",
    "    data= fetch_california_housing()\n",
    "    print(\"Features of Boston Housing Prices dataset: \", data.get(\"feature_names\"))\n",
    "    print(\"Shape of the X: \", data.data.shape)\n",
    "    print(\"Shape of the Y: \", data.target.shape)\n",
    "    return data.data, data.target\n",
    "\n",
    "\n",
    "\n",
    "def multiple_gradient_descent_KFold(X,Y):\n",
    "    kf = KFold(n_splits=4)\n",
    "    beta1= np.zeros(8);\n",
    "    print(beta1);\n",
    "    for i in X:\n",
    "        if np.isnan(i.any()):\n",
    "            print(i)\n",
    "    for xtrain_index, xtest_index in kf.split(X,Y):\n",
    "        X_train, X_test = X[xtrain_index], X[xtest_index]\n",
    "        y_train, y_test = Y[xtrain_index], Y[xtest_index]\n",
    "        print(f'Shape of Xtrain: {X_train.shape}')\n",
    "        print(f'Shape of Ytrain: {y_train.shape}')\n",
    "        print(f'Shape of Xtest: {X_test.shape}')        \n",
    "        print(f'Shape of Ytest: {y_test.shape}')\n",
    "    "
   ]
  },
  {
   "cell_type": "code",
   "execution_count": 9,
   "metadata": {
    "scrolled": false
   },
   "outputs": [
    {
     "name": "stdout",
     "output_type": "stream",
     "text": [
      "Features of Boston Housing Prices dataset:  ['MedInc', 'HouseAge', 'AveRooms', 'AveBedrms', 'Population', 'AveOccup', 'Latitude', 'Longitude']\n",
      "Shape of the X:  (20640, 8)\n",
      "Shape of the Y:  (20640,)\n",
      "beta1\n",
      "Shape of Xtrain: (15480, 8)\n",
      "Shape of Ytrain: (15480,)\n",
      "Shape of Xtest: (5160, 8)\n",
      "Shape of Ytest: (5160,)\n",
      "Shape of Xtrain: (15480, 8)\n",
      "Shape of Ytrain: (15480,)\n",
      "Shape of Xtest: (5160, 8)\n",
      "Shape of Ytest: (5160,)\n",
      "Shape of Xtrain: (15480, 8)\n",
      "Shape of Ytrain: (15480,)\n",
      "Shape of Xtest: (5160, 8)\n",
      "Shape of Ytest: (5160,)\n",
      "Shape of Xtrain: (15480, 8)\n",
      "Shape of Ytrain: (15480,)\n",
      "Shape of Xtest: (5160, 8)\n",
      "Shape of Ytest: (5160,)\n"
     ]
    }
   ],
   "source": [
    "import os, ssl\n",
    "#if(not os.environ.get('PYTHONHTTPSVERIFY','') and getattr(ssl, '_create_unverified_context', None)):\n",
    "#    ssl._create_default_https_context = ssl._create_unverified_context\n",
    "\n",
    "x, y = load_data()\n",
    "multiple_gradient_descent_KFold(x, y)"
   ]
  },
  {
   "cell_type": "code",
   "execution_count": 6,
   "metadata": {},
   "outputs": [
    {
     "name": "stdout",
     "output_type": "stream",
     "text": [
      "Features of Boston Housing Prices dataset:  ['MedInc', 'HouseAge', 'AveRooms', 'AveBedrms', 'Population', 'AveOccup', 'Latitude', 'Longitude']\n",
      "Shape of the X:  (20640, 8)\n",
      "Shape of the Y:  (20640,)\n"
     ]
    }
   ],
   "source": [
    "data= fetch_california_housing()\n",
    "print(\"Features of Boston Housing Prices dataset: \", data.get(\"feature_names\"))\n",
    "print(\"Shape of the X: \", data.data.shape)\n",
    "print(\"Shape of the Y: \", data.target.shape)\n"
   ]
  },
  {
   "cell_type": "code",
   "execution_count": 7,
   "metadata": {},
   "outputs": [],
   "source": [
    "kf = KFold(n_splits=5)"
   ]
  },
  {
   "cell_type": "code",
   "execution_count": 8,
   "metadata": {},
   "outputs": [
    {
     "name": "stdout",
     "output_type": "stream",
     "text": [
      "4128.0\n",
      "(4128,)\n",
      "(4128,)\n",
      "[   0    1    2 ... 4125 4126 4127]\n",
      "4128.0\n",
      "(4128,)\n",
      "(4128,)\n",
      "[4128 4129 4130 ... 8253 8254 8255]\n",
      "4128.0\n",
      "(4128,)\n",
      "(4128,)\n",
      "[ 8256  8257  8258 ... 12381 12382 12383]\n",
      "4128.0\n",
      "(4128,)\n",
      "(4128,)\n",
      "[12384 12385 12386 ... 16509 16510 16511]\n",
      "4128.0\n",
      "(4128,)\n",
      "(4128,)\n",
      "[16512 16513 16514 ... 20637 20638 20639]\n"
     ]
    }
   ],
   "source": [
    "for datax, targets in kf.split(data.data, data.target):\n",
    "    #print(data.data[datax[:targets.size],1].shape)\n",
    "    print(datax.size/4)\n",
    "    print(data.target[targets].shape)\n",
    "    print(datax[:targets.size].shape)\n",
    "   # print(datax[(np.ceil(datax.size-1)/2)])\n",
    "    print(targets)"
   ]
  },
  {
   "cell_type": "code",
   "execution_count": 9,
   "metadata": {},
   "outputs": [
    {
     "name": "stdout",
     "output_type": "stream",
     "text": [
      "(50,)\n",
      "(50,)\n"
     ]
    }
   ],
   "source": [
    "df = pd.read_csv('data1.csv')\n",
    "print(df['x'].shape)\n",
    "print(df['y'].shape)"
   ]
  },
  {
   "cell_type": "code",
   "execution_count": null,
   "metadata": {},
   "outputs": [],
   "source": []
  }
 ],
 "metadata": {
  "kernelspec": {
   "display_name": "Python 3 (ipykernel)",
   "language": "python",
   "name": "python3"
  },
  "language_info": {
   "codemirror_mode": {
    "name": "ipython",
    "version": 3
   },
   "file_extension": ".py",
   "mimetype": "text/x-python",
   "name": "python",
   "nbconvert_exporter": "python",
   "pygments_lexer": "ipython3",
   "version": "3.11.5"
  }
 },
 "nbformat": 4,
 "nbformat_minor": 4
}
