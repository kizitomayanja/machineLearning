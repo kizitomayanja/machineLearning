{
 "cells": [
  {
   "cell_type": "code",
   "execution_count": 1,
   "id": "177c4260",
   "metadata": {},
   "outputs": [
    {
     "name": "stdout",
     "output_type": "stream",
     "text": [
      "🎉🎂 Happy Birthday, Boy Child! 🎂🎉\n",
      "May your day be as AWESOME as finding WiFi in the middle of DE SNOW! 📶🎈\n",
      "Wishing you loads of laughter and joy and ballification. Cheers to the new year's goal of rolling off the shelf😂😂😂! 🥳🎁\n"
     ]
    }
   ],
   "source": [
    "def birthday(name, age):\n",
    "    message = (\n",
    "        f\"🎉🎂 Happy Birthday, {name}! 🎂🎉\\n\"\n",
    "        f\"May your day be as AWESOME as finding WiFi in the middle of DE SNOW! 📶🎈\\n\"\n",
    "        f\"Wishing you loads of laughter and joy and ballification. Cheers to the new year's goal of rolling off the shelf😂😂😂! 🥳🎁\"\n",
    "    )\n",
    "    return message\n",
    "\n",
    "de_name = \"Boy Child\"\n",
    "de_age = 22\n",
    "birthday_message = birthday(de_name, de_age)\n",
    "\n",
    "print(birthday_message)"
   ]
  }
 ],
 "metadata": {
  "kernelspec": {
   "display_name": "Python 3 (ipykernel)",
   "language": "python",
   "name": "python3"
  },
  "language_info": {
   "codemirror_mode": {
    "name": "ipython",
    "version": 3
   },
   "file_extension": ".py",
   "mimetype": "text/x-python",
   "name": "python",
   "nbconvert_exporter": "python",
   "pygments_lexer": "ipython3",
   "version": "3.11.5"
  }
 },
 "nbformat": 4,
 "nbformat_minor": 5
}
